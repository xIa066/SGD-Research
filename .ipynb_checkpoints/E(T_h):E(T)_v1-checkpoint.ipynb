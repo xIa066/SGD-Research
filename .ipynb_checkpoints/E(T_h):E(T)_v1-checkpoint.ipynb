{
 "cells": [
  {
   "cell_type": "code",
   "execution_count": 5,
   "metadata": {},
   "outputs": [],
   "source": [
    "import numpy as np\n",
    "import math\n",
    "import matplotlib.pyplot as plt\n",
    "# simulate the infected patients number for a specific period T_total\n",
    "# this function simulate not strictly numbers of X_n in T_total time, given fixed Lambda, P, Alpha\n",
    "# Random Horizon: means that the whole trajectory stop once X_n hits 0\n",
    "# @ param N: is the number of total population can be infected\n",
    "# @ param t_0: a number that is the time when starting the T-time simulation\n",
    "# @ param x_0: initial infected patients (greater than 0)\n",
    "# @ param T_total: is total time for this simulation\n",
    "# @ param maxi_time: is the maximum time that the whole simulation process can go, can be infinity\n",
    "# @ param H: is the hospital capacity\n",
    "def simulation_infected(la, p, al, N, t_0, x_0, T_total, H, maxTime):\n",
    "    # initialize time and infected patient\n",
    "    # bind variables to the initial conditions\n",
    "    x_n = x_0\n",
    "    # make sure the start is not 0\n",
    "#     assert(x_n!=0)\n",
    "    # assign initial time to a know value, noted it can start from\n",
    "    # not just at 0 time\n",
    "    t_n = t_0\n",
    "    # introduce T_H := \"the total time above the hospital capacity\"\n",
    "    T_H = 0\n",
    "    # initiate X_n process trajectory and corresponding T_n process\n",
    "    X_trajectory = []\n",
    "    T_trajectory = []\n",
    "    # loop\n",
    "    # break condition\n",
    "    # @ condition1: when the time exceeds the maximum time\n",
    "    # @ condition2: when the infected patients go to zero\n",
    "    # @ condition3: when the whole populations are infected! :(\n",
    "    while (x_n != 0 and\n",
    "           x_n < N\n",
    "          ):\n",
    "        i = x_n\n",
    "        # q i _ i+1\n",
    "        q_forward_i = la*p*2*x_n*(N-i)/(N*(N-1))\n",
    "        # q i _ i-1\n",
    "        q_backward_i = al*i\n",
    "        # waiting time rate v_i = (q i _ i+1) + (q i _ i-1)\n",
    "        v_i = q_forward_i + q_backward_i\n",
    "        t_i = np.random.exponential(v_i)\n",
    "        # calculate T_H before jumping\n",
    "        if (x_n >= H):\n",
    "            T_H = min(T_total ,T_H+t_i)\n",
    "        # jumping probability to STATE i+1 is (q i _ i+1)/v_i\n",
    "        jump = np.random.binomial(n=1,p=(q_forward_i/v_i))\n",
    "        \n",
    "        if ((t_n+t_i-t_0) > T_total):\n",
    "            X_trajectory.append(x_n)\n",
    "            T_trajectory.append(T_total+t_0)\n",
    "            return X_trajectory, T_trajectory, T_H, T_total\n",
    "        \n",
    "        # change x_n\n",
    "        if (jump ==1):\n",
    "            x_n += 1\n",
    "        elif (jump == 0):\n",
    "            x_n -= 1            \n",
    "        \n",
    "        # add the jumped X_n at t_i time\n",
    "        X_trajectory.append(x_n)\n",
    "        # increase time\n",
    "        T_trajectory.append(t_n+t_i)\n",
    "        t_n = t_n+t_i\n",
    "        \n",
    "        # if hits then zero return\n",
    "        if (x_n == 0):\n",
    "            return X_trajectory, T_trajectory, T_H, T_total        \n",
    "        \n",
    "    # also return when the while break condition met\n",
    "    return X_trajectory, T_trajectory, T_H, T_total"
   ]
  },
  {
   "cell_type": "code",
   "execution_count": 10,
   "metadata": {
    "scrolled": false
   },
   "outputs": [],
   "source": [
    "# function takes that updates lambda with negative sign\n",
    "def update_lambda(_lambda, T_H, T, Beta ,stepsize):\n",
    "    Y_n = T_H/T\n",
    "    _lambda -= float(stepsize) * (Y_n-Beta)\n",
    "    return _lambda\n",
    "\n",
    "# function that updates p with negative sign\n",
    "def update_p(_p, T_H, T, Beta, stepsize):\n",
    "    Y_n = T_H/T\n",
    "    _p -= float(stepsize) * (Y_n-Beta)\n",
    "    return _p\n",
    "\n",
    "# function that updates alpha with positive sign\n",
    "def update_alpha(_alpha, T_H, T, Beta, stepsize):\n",
    "    Y_n = T_H/T\n",
    "    _alpha += float(stepsize) * (Y_n-Beta)\n",
    "    return _alpha\n",
    "\n",
    "# @ x_0 initial infected patient\n",
    "# @ _lambda the inital lambda value\n",
    "# @ _alpha the inital alpha value\n",
    "# @ p the inital p value \n",
    "# @ C is the hospital capacity \n",
    "# @ Beta is the target tracking probability \n",
    "# @ K is the batch size of each estimate\n",
    "# @ The batch is defined here as the total K days of simulation starting from a time point\n",
    "# @ It is not defined as the number of replications of each simulation with T days\n",
    "# these are all set arbitary atm\n",
    "x_0 = 10\n",
    "_lambda = 0.1\n",
    "_alpha = 1e-8\n",
    "_p = 0.9\n",
    "K = 14\n",
    "H = 2e4\n",
    "Beta = 0.05\n",
    "N = 4e6\n",
    "maxTime = 3e4                                            \n",
    "stepsize = [0.000001, 2e-11]\n",
    "\n",
    "\n",
    "trajectory_lambda = []\n",
    "trajectory_alpha = []\n",
    "trajectory_X_n = []\n",
    "trajectory_T_n = []\n",
    "# use iteration of 5000 as end of all sequential update\n",
    "iteration = 0\n",
    "x_n = x_0\n",
    "t_n = 0\n",
    "\n",
    "while iteration < 1000:\n",
    "    \n",
    "    # simulate K days of X_n obtain T_H/T, starting from t_0 = 0 and x_0 = x_n\n",
    "    X_n,T_n,T_H,T = simulation_infected(_lambda,_p,_alpha,N,t_n,x_n,K,H,maxTime)\n",
    "    \n",
    "    # use K days simulation to update lambda and alpha\n",
    "    _alpha = max(0,update_alpha(_alpha,T_H,T,Beta,stepsize[1]))\n",
    "    _lambda = max(0, update_lambda(_lambda,T_H,T,Beta,stepsize[0]))\n",
    "    \n",
    "    # update the objective simulation trajectory\n",
    "    trajectory_alpha.append(_alpha)\n",
    "    trajectory_lambda.append(_lambda)\n",
    "    trajectory_X_n.extend(X_n)\n",
    "    trajectory_T_n.extend(T_n)\n",
    "    \n",
    "    # update x_n and t_n using the last (latest) element of objective simulation X_n and T_n\n",
    "    x_n = X_n[-1]\n",
    "    t_n = T_n[-1]\n",
    "    \n",
    "    # if x_n is zero, jump up to x_0, restart simulation\n",
    "    if (x_n==0):\n",
    "        x_n = x_0\n",
    "    \n",
    "    iteration+=1\n",
    "    "
   ]
  },
  {
   "cell_type": "code",
   "execution_count": 8,
   "metadata": {
    "scrolled": false
   },
   "outputs": [
    {
     "data": {
      "image/png": "[encoded data removed]",
      "text/plain": [
       "<Figure size 432x288 with 1 Axes>"
      ]
     },
     "metadata": {
      "needs_background": "light"
     },
     "output_type": "display_data"
    }
   ],
   "source": [
    "plt.xlabel(\"the time by day\")\n",
    "plt.ylabel(\"value of lambda\")\n",
    "plt.title(\"trajectory of lambda\")\n",
    "plt.plot(trajectory_lambda)\n",
    "plt.savefig(\"trajectory of lambda, experiment3, 2e4\")"
   ]
  },
  {
   "cell_type": "code",
   "execution_count": 35,
   "metadata": {
    "scrolled": true
   },
   "outputs": [
    {
     "data": {
      "image/png": "[encoded data removed]",
      "text/plain": [
       "<Figure size 432x288 with 1 Axes>"
      ]
     },
     "metadata": {
      "needs_background": "light"
     },
     "output_type": "display_data"
    }
   ],
   "source": [
    "plt.clf()\n",
    "plt.plot(trajectory_alpha)\n",
    "plt.savefig(\"trajectory of alpha, experiment3, 2e4\")"
   ]
  },
  {
   "cell_type": "code",
   "execution_count": 9,
   "metadata": {
    "scrolled": false
   },
   "outputs": [
    {
     "data": {
      "image/png": "[encoded data removed]",
      "text/plain": [
       "<Figure size 432x288 with 1 Axes>"
      ]
     },
     "metadata": {
      "needs_background": "light"
     },
     "output_type": "display_data"
    }
   ],
   "source": [
    "plt.plot(trajectory_T_n,trajectory_X_n)\n",
    "plt.savefig(\"trajectory of simulation, experiment3, 2e4\")"
   ]
  },
  {
   "cell_type": "code",
   "execution_count": null,
   "metadata": {},
   "outputs": [],
   "source": []
  }
 ],
 "metadata": {
  "kernelspec": {
   "display_name": "Python 3",
   "language": "python",
   "name": "python3"
  },
  "language_info": {
   "codemirror_mode": {
    "name": "ipython",
    "version": 3
   },
   "file_extension": ".py",
   "mimetype": "text/x-python",
   "name": "python",
   "nbconvert_exporter": "python",
   "pygments_lexer": "ipython3",
   "version": "3.8.3"
  }
 },
 "nbformat": 4,
 "nbformat_minor": 4
}
