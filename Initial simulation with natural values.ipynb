{
 "cells": [
  {
   "cell_type": "code",
   "execution_count": 4,
   "metadata": {},
   "outputs": [],
   "source": [
    "import numpy as np\n",
    "import math\n",
    "# random horizon and simulate the data as it goes\n",
    "# this function simulate 1 batch of not strictly K numbers of X_n, given fixed Lambda, P, Alpha\n",
    "# @ param N: is the number of total population\n",
    "# @ param current_time: a number that is the current time when starting the batch simulation\n",
    "# @ param x_0: initial infected patients (greater than 0)\n",
    "# @ param K: is total time for this simulation\n",
    "# @ param maxi_time: is the maximum time that the whole simulation process can go, can be infinity\n",
    "# @ param H: is the hospital capacity\n",
    "def simulation_infected(la, p, al, N, current_time, x_0, K, H, maxTime):\n",
    "    # initialize time and infected patient\n",
    "    t_0 = 0\n",
    "    # bind variables to initial conditions\n",
    "    x_n = x_0\n",
    "    # make sure the start is not 0\n",
    "    assert(x_n!=0)\n",
    "    # assign time now to 0 first for convenience of bound the simulation size close to K \n",
    "    # But in the return statement, add it up to the current time\n",
    "    t_n = current_time\n",
    "    # introduce T_H := the total time above the hospital capacity\n",
    "    T_H = 0\n",
    "    # initiate X_n process and corresponding T_n process\n",
    "    X_n = []\n",
    "    T_n = []\n",
    "    # k is to keep track of current observation in up tp K(batch size measured by time)\n",
    "    k = 0\n",
    "    # loop\n",
    "    # break condition\n",
    "    # @ condition1: when the time exceeds the maximum time\n",
    "    # @ condition2: when the infected patients go to zero\n",
    "    # @ condition3: when the whole populations are infected! :(\n",
    "    while (t_n<maxTime and\n",
    "           x_n != 0 and\n",
    "           x_n < N and\n",
    "           k < K\n",
    "          ):\n",
    "        i = x_n\n",
    "        # q i _ i+1\n",
    "        q_forward_i = la*p*2*x_n*(N-i)/(N*(N-1))\n",
    "        # q i _ i-1\n",
    "        q_backward_i = al*i\n",
    "        # waiting time rate v_i = (q i _ i+1) + (q i _ i-1)\n",
    "        v_i = q_forward_i + q_backward_i\n",
    "        t_i = np.random.exponential(v_i)\n",
    "        # calculate T_H before jumping\n",
    "        if (x_n >= H):\n",
    "            T_H += t_i\n",
    "        # jumping probability to STATE i+1 is (q i _ i+1)/v_i\n",
    "        jump = np.random.binomial(n=1,p=(q_forward_i/v_i))\n",
    "        if (jump ==1):\n",
    "            x_n += 1\n",
    "        elif (jump == 0):\n",
    "            x_n -= 1            \n",
    "        # add the jumped X_n at t_i time\n",
    "        X_n.append(x_n)\n",
    "        # increase time\n",
    "        T_n.append(t_n+t_i)\n",
    "        t_n = t_n+t_i\n",
    "        # return when the total time for this batch simulation exceeds K\n",
    "        # as such, the batch is not strictly equal to K ? might need to discuss\n",
    "        if ((t_n-current_time) > K):\n",
    "            return X_n, T_n, T_H,t_n-current_time\n",
    "    # return when the while break condition met    \n",
    "    return X_n, T_n, T_H, t_n-current_time"
   ]
  },
  {
   "cell_type": "code",
   "execution_count": 5,
   "metadata": {},
   "outputs": [],
   "source": [
    "x_n, _lambda,_alpha,p, K, H, Beta, N, maxTime = (10,\n",
    "                                                    0.1,\n",
    "                                                    1e-8,\n",
    "                                                    0.9,\n",
    "                                                    5,\n",
    "                                                    2e4,\n",
    "                                                    0.05,\n",
    "                                                    4e6,\n",
    "                                                    30000)\n",
    "\n",
    "X_n, T_n, T_H, T = simulation_infected(_lambda,p,_alpha,N,0,x_n,K,H,maxTime)"
   ]
  },
  {
   "cell_type": "code",
   "execution_count": 40,
   "metadata": {
    "scrolled": false
   },
   "outputs": [
    {
     "name": "stdout",
     "output_type": "stream",
     "text": [
      "###############\n",
      "0.0\n",
      "###############\n",
      "0.0\n",
      "###############\n",
      "0.0\n",
      "###############\n",
      "0.0\n",
      "###############\n",
      "0.0\n",
      "###############\n",
      "0.0\n",
      "###############\n",
      "0.0\n",
      "###############\n",
      "0.9655241537200885\n",
      "###############\n",
      "1.00000000000007\n",
      "###############\n",
      "0.9999999999999873\n",
      "###############\n",
      "0.9999999999999638\n",
      "###############\n",
      "0.9999999999999409\n",
      "###############\n",
      "0.9999999999999759\n",
      "###############\n",
      "0.13621236501305817\n",
      "###############\n",
      "0.0\n",
      "###############\n",
      "0.0\n",
      "###############\n",
      "0.0\n",
      "###############\n",
      "0.0\n",
      "###############\n",
      "0.0\n",
      "###############\n",
      "0.0\n",
      "###############\n",
      "0.0\n",
      "###############\n",
      "0.0\n",
      "###############\n",
      "0.0\n",
      "###############\n",
      "0.0\n",
      "###############\n",
      "0.0\n",
      "###############\n",
      "0.0\n",
      "###############\n",
      "0.0\n",
      "###############\n",
      "0.0\n",
      "###############\n",
      "0.0\n",
      "###############\n",
      "0.0\n",
      "###############\n",
      "0.0\n",
      "###############\n",
      "0.0\n",
      "###############\n",
      "0.0\n",
      "###############\n",
      "0.0\n"
     ]
    },
    {
     "ename": "AssertionError",
     "evalue": "",
     "output_type": "error",
     "traceback": [
      "\u001b[0;31m---------------------------------------------------------------------------\u001b[0m",
      "\u001b[0;31mAssertionError\u001b[0m                            Traceback (most recent call last)",
      "\u001b[0;32m<ipython-input-40-b306aaf83635>\u001b[0m in \u001b[0;36m<module>\u001b[0;34m\u001b[0m\n\u001b[1;32m     68\u001b[0m     \u001b[0;31m# tn is the re-asigned value from update alpha simulation\u001b[0m\u001b[0;34m\u001b[0m\u001b[0;34m\u001b[0m\u001b[0m\n\u001b[1;32m     69\u001b[0m     \u001b[0;31m# update lambda\u001b[0m\u001b[0;34m\u001b[0m\u001b[0;34m\u001b[0m\u001b[0m\n\u001b[0;32m---> 70\u001b[0;31m     \u001b[0mX_n\u001b[0m\u001b[0;34m,\u001b[0m \u001b[0mT_n\u001b[0m\u001b[0;34m,\u001b[0m \u001b[0mT_H\u001b[0m\u001b[0;34m,\u001b[0m \u001b[0mT\u001b[0m \u001b[0;34m=\u001b[0m \u001b[0msimulation_infected\u001b[0m\u001b[0;34m(\u001b[0m\u001b[0m_lambda\u001b[0m\u001b[0;34m,\u001b[0m\u001b[0mp\u001b[0m\u001b[0;34m,\u001b[0m\u001b[0m_alpha\u001b[0m\u001b[0;34m,\u001b[0m\u001b[0mN\u001b[0m\u001b[0;34m,\u001b[0m\u001b[0mt_n\u001b[0m\u001b[0;34m,\u001b[0m\u001b[0mx_n\u001b[0m\u001b[0;34m,\u001b[0m\u001b[0mK\u001b[0m\u001b[0;34m,\u001b[0m\u001b[0mH\u001b[0m\u001b[0;34m,\u001b[0m\u001b[0mmaxTime\u001b[0m\u001b[0;34m)\u001b[0m\u001b[0;34m\u001b[0m\u001b[0m\n\u001b[0m\u001b[1;32m     71\u001b[0m \u001b[0;31m#     print(\"***************\")\u001b[0m\u001b[0;34m\u001b[0m\u001b[0;34m\u001b[0m\u001b[0m\n\u001b[1;32m     72\u001b[0m \u001b[0;31m#     print(X_n)\u001b[0m\u001b[0;34m\u001b[0m\u001b[0;34m\u001b[0m\u001b[0m\n",
      "\u001b[0;32m<ipython-input-4-64b4dbde9950>\u001b[0m in \u001b[0;36msimulation_infected\u001b[0;34m(la, p, al, N, current_time, x_0, K, H, maxTime)\u001b[0m\n\u001b[1;32m     15\u001b[0m     \u001b[0mx_n\u001b[0m \u001b[0;34m=\u001b[0m \u001b[0mx_0\u001b[0m\u001b[0;34m\u001b[0m\u001b[0m\n\u001b[1;32m     16\u001b[0m     \u001b[0;31m# make sure the start is not 0\u001b[0m\u001b[0;34m\u001b[0m\u001b[0;34m\u001b[0m\u001b[0m\n\u001b[0;32m---> 17\u001b[0;31m     \u001b[0;32massert\u001b[0m\u001b[0;34m(\u001b[0m\u001b[0mx_n\u001b[0m\u001b[0;34m!=\u001b[0m\u001b[0;36m0\u001b[0m\u001b[0;34m)\u001b[0m\u001b[0;34m\u001b[0m\u001b[0m\n\u001b[0m\u001b[1;32m     18\u001b[0m     \u001b[0;31m# assign time now to 0 first for convenience of bound the simulation size close to K\u001b[0m\u001b[0;34m\u001b[0m\u001b[0;34m\u001b[0m\u001b[0m\n\u001b[1;32m     19\u001b[0m     \u001b[0;31m# But in the return statement, add it up to the current time\u001b[0m\u001b[0;34m\u001b[0m\u001b[0;34m\u001b[0m\u001b[0m\n",
      "\u001b[0;31mAssertionError\u001b[0m: "
     ]
    }
   ],
   "source": [
    "# Y_n() function take the following parameters and return the estimator for L(\\theta) - beta\n",
    "# @ C is the hospital capacity\n",
    "# @ Beta is the target tracking probability\n",
    "# def Y_n(T_H,T,Beta):\n",
    "#     overCapacityCount = 0\n",
    "#     # K here is the actual batch size, it might vary dependent on simulation\n",
    "#     K = len(X_n)\n",
    "#     for i in range(K):\n",
    "#         if X_n[i] > C:\n",
    "#             overCapacityCount+=1\n",
    "#     Y_n = (overCapacityCount/K) - Beta\n",
    "#     return Y_n\n",
    "    \n",
    "def update_lambda(_lambda, T_H, T, Beta ,stepsize):\n",
    "    Y_n = T_H/T\n",
    "    _lambda -= float(stepsize) * (Y_n-Beta)\n",
    "    return _lambda\n",
    "\n",
    "def update_alpha(_alpha, T_H, T, Beta ,stepsize):\n",
    "    Y_n = T_H/T\n",
    "    _alpha += float(stepsize) * (Y_n-Beta)\n",
    "    return _alpha\n",
    "\n",
    "# @ x_n initial infected patient\n",
    "# set initial lambda\n",
    "# set inital alpha\n",
    "# @ C is the hospital capacity \n",
    "# @ Beta is the target tracking probability \n",
    "# @ K is the batch size of each estimate\n",
    "# these are all set arbitary atm\n",
    "x_n, _lambda,_alpha,p, K, H, Beta, N, maxTime = (10,\n",
    "                                                    0.1,\n",
    "                                                    1e-8,\n",
    "                                                    0.9,\n",
    "                                                    1,\n",
    "                                                    2e4,\n",
    "                                                    0.05,\n",
    "                                                    4e6,\n",
    "                                                    30000)\n",
    "\n",
    "stepsize = [0.01, 2e-8]\n",
    "\n",
    "\n",
    "trajectory_lambda = []\n",
    "trajectory_alpha = []\n",
    "trajectory_X_n = []\n",
    "trajectory_T_n = []\n",
    "# use iteration of 5000 as end of all sequential update\n",
    "iteration = 0\n",
    "t_n = 0\n",
    "while iteration < 50000:\n",
    "    # update alpha\n",
    "    X_n, T_n, T_H, T = simulation_infected(_lambda,p,_alpha,N,t_n,x_n,K,H,maxTime)\n",
    "#     print(_alpha)\n",
    "#     print(len(X_n))\n",
    "    print(\"###############\")\n",
    "    print(T_H/T)\n",
    "    _alpha = max(0,update_alpha(_alpha,T_H,T,Beta,stepsize[1]))\n",
    "    trajectory_alpha.append(_alpha)\n",
    "    trajectory_X_n.extend(X_n)\n",
    "    trajectory_T_n.extend(T_n)\n",
    "    \n",
    "    # to keep the time consistent, slice the tail of last number of infected\n",
    "    # as the new initial\n",
    "    x_n = X_n[-1]\n",
    "    t_n = T_n[-1]\n",
    "    \n",
    "    # tn is the re-asigned value from update alpha simulation\n",
    "    # update lambda\n",
    "    X_n, T_n, T_H, T = simulation_infected(_lambda,p,_alpha,N,t_n,x_n,K,H,maxTime)\n",
    "#     print(\"***************\")\n",
    "#     print(X_n)\n",
    "    _lambda = max(0, update_lambda(_lambda,T_H,T,Beta,stepsize[0]))\n",
    "    \n",
    "    trajectory_lambda.append(_lambda)\n",
    "    trajectory_X_n.extend(X_n)\n",
    "    trajectory_T_n.extend(T_n)\n",
    "    \n",
    "    x_n = X_n[-1]\n",
    "    t_n = T_n[-1]\n",
    "    \n",
    "    iteration+=1\n",
    "    "
   ]
  },
  {
   "cell_type": "code",
   "execution_count": 25,
   "metadata": {},
   "outputs": [],
   "source": [
    "import matplotlib.pyplot as plt"
   ]
  },
  {
   "cell_type": "code",
   "execution_count": 37,
   "metadata": {
    "scrolled": true
   },
   "outputs": [
    {
     "data": {
      "text/plain": [
       "[<matplotlib.lines.Line2D at 0x119dee4a8>]"
      ]
     },
     "execution_count": 37,
     "metadata": {},
     "output_type": "execute_result"
    },
    {
     "data": {
      "image/png": "[encoded data removed]",
      "text/plain": [
       "<Figure size 432x288 with 1 Axes>"
      ]
     },
     "metadata": {
      "needs_background": "light"
     },
     "output_type": "display_data"
    }
   ],
   "source": [
    "plt.plot(trajectory_alpha)"
   ]
  },
  {
   "cell_type": "code",
   "execution_count": 38,
   "metadata": {},
   "outputs": [
    {
     "data": {
      "text/plain": [
       "[<matplotlib.lines.Line2D at 0x1137cc5f8>]"
      ]
     },
     "execution_count": 38,
     "metadata": {},
     "output_type": "execute_result"
    },
    {
     "data": {
      "image/png": "[encoded data removed]",
      "text/plain": [
       "<Figure size 432x288 with 1 Axes>"
      ]
     },
     "metadata": {
      "needs_background": "light"
     },
     "output_type": "display_data"
    }
   ],
   "source": [
    "plt.plot(trajectory_lambda)"
   ]
  },
  {
   "cell_type": "code",
   "execution_count": 39,
   "metadata": {},
   "outputs": [
    {
     "data": {
      "text/plain": [
       "[<matplotlib.lines.Line2D at 0x1136e3dd8>]"
      ]
     },
     "execution_count": 39,
     "metadata": {},
     "output_type": "execute_result"
    },
    {
     "data": {
      "image/png": "[encoded data removed]",
      "text/plain": [
       "<Figure size 432x288 with 1 Axes>"
      ]
     },
     "metadata": {
      "needs_background": "light"
     },
     "output_type": "display_data"
    }
   ],
   "source": [
    "plt.plot(trajectory_T_n,trajectory_X_n)"
   ]
  },
  {
   "cell_type": "code",
   "execution_count": null,
   "metadata": {},
   "outputs": [],
   "source": []
  }
 ],
 "metadata": {
  "kernelspec": {
   "display_name": "Python 3",
   "language": "python",
   "name": "python3"
  },
  "language_info": {
   "codemirror_mode": {
    "name": "ipython",
    "version": 3
   },
   "file_extension": ".py",
   "mimetype": "text/x-python",
   "name": "python",
   "nbconvert_exporter": "python",
   "pygments_lexer": "ipython3",
   "version": "3.6.1"
  }
 },
 "nbformat": 4,
 "nbformat_minor": 4
}
