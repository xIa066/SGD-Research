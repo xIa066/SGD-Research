{
 "cells": [
  {
   "cell_type": "code",
   "execution_count": 1,
   "metadata": {},
   "outputs": [],
   "source": [
    "import numpy as np"
   ]
  },
  {
   "cell_type": "code",
   "execution_count": 2,
   "metadata": {},
   "outputs": [
    {
     "name": "stdout",
     "output_type": "stream",
     "text": [
      "converge to C\n"
     ]
    }
   ],
   "source": [
    "# Define Cost function, lambda function, p function, alpha function\n",
    "def cost(theta:float) -> float:\n",
    "    return theta\n",
    "def la(theta:float) -> float:\n",
    "    return 1/theta\n",
    "def p(theta:float) -> float:\n",
    "    return 1/theta\n",
    "def al(theta:float)-> float:\n",
    "    return theta\n",
    "def L_al_la(la,al):\n",
    "    l=la-al\n",
    "    return l\n",
    "def update_lambda(la,al,e):\n",
    "    beta_1 = 0.023\n",
    "    la-= e*L_al_la(la,al)-beta_1*1\n",
    "    return la\n",
    "def update_alpha(la,al,e):\n",
    "    beta_2 = 10**8\n",
    "    al-= e*L_al_la(la,al)-beta_2*1\n",
    "    return al\n",
    "# @ param N: is the number of total population\n",
    "# @ param total_time: the time that we want to simulate the process (6 month)\n",
    "# @ param x_0: initial infected patients (greater than 0)\n",
    "def simulation_infected(la, p, al, N, total_time, x_0):\n",
    "    # initialize time and infected patient\n",
    "    t_0 = 0\n",
    "    # bind variables to initial conditions\n",
    "    x_n = x_0\n",
    "    assert(x_n!=0)\n",
    "    t_n = t_0\n",
    "    # initiate X_n process and corresponding T_n process\n",
    "    X_n = [x_0]\n",
    "    T_n = [t_0]\n",
    "    # converge\n",
    "    conv =0\n",
    "    # loop\n",
    "    # break condition\n",
    "    # @ condition1: when the time exceeds the total time\n",
    "    # @ condition2: when the infected patients go to zero\n",
    "    # @ condition3: when the whole populations are infected! :(\n",
    "    while (t_n<total_time and\n",
    "           x_n != 0 and\n",
    "           x_n < N\n",
    "          ):\n",
    "        i = x_n\n",
    "        # q i _ i+1\n",
    "        q_forward_i = la*p*2*x_n*(N-i)/(N*(N-1))\n",
    "        # q i _ i-1\n",
    "        q_backward_i = al*i\n",
    "        # waiting time rate v_i = (q i _ i+1) + (q i _ i-1)\n",
    "        v_i = q_forward_i + q_backward_i\n",
    "        t_i = np.random.exponential(v_i)\n",
    "        # jumping probability to STATE i+1 is (q i _ i+1)/v_i\n",
    "        jump = np.random.binomial(n=1,p=(q_forward_i/v_i))\n",
    "        if (jump ==1):\n",
    "            x_n += 1\n",
    "        else:\n",
    "            x_n -= 1\n",
    "        # increase time    \n",
    "        t_n = t_n+t_i\n",
    "        # append Process\n",
    "        X_n.append(x_n)\n",
    "        T_n.append(t_n)\n",
    "\n",
    "        if abs(x_n - X_n[-1]) < 10:\n",
    "            print('converge to C')\n",
    "            conv = 1\n",
    "            break\n",
    "        \n",
    "    return (X_n,T_n,conv)\n",
    "e=0.01\n",
    "para_alpha = 10**(-8)\n",
    "para_lamda = 0.01\n",
    "while True:\n",
    "    _,_,conv = simulation_infected(para_lamda,0.2,para_alpha,20000,100,10)\n",
    "    if conv ==1:\n",
    "        break\n",
    "    para_alpha = update_alpha(para_lamda,para_alpha,e)\n",
    "    _,_,conv = simulation_infected(para_lamda,0.2,para_alpha,20000,100,10)\n",
    "    if conv ==1:\n",
    "        break\n",
    "    para_lamda = update_lambda(para_lamda,para_alpha,e)\n",
    "    _,_,conv = simulation_infected(para_lamda,0.2,para_alpha,20000,100,10)\n",
    "    if conv ==1:\n",
    "        break"
   ]
  }
 ],
 "metadata": {
  "kernelspec": {
   "display_name": "Python 3",
   "language": "python",
   "name": "python3"
  },
  "language_info": {
   "codemirror_mode": {
    "name": "ipython",
    "version": 3
   },
   "file_extension": ".py",
   "mimetype": "text/x-python",
   "name": "python",
   "nbconvert_exporter": "python",
   "pygments_lexer": "ipython3",
   "version": "3.6.1"
  }
 },
 "nbformat": 4,
 "nbformat_minor": 4
}